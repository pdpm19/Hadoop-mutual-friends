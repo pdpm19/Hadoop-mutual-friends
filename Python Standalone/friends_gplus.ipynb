{
  "nbformat": 4,
  "nbformat_minor": 0,
  "metadata": {
    "colab": {
      "name": "friends_gplus.ipynb",
      "provenance": [],
      "collapsed_sections": []
    },
    "kernelspec": {
      "name": "python3",
      "display_name": "Python 3"
    },
    "language_info": {
      "name": "python"
    }
  },
  "cells": [
    {
      "cell_type": "code",
      "metadata": {
        "id": "5PrKyLvKKsmk",
        "colab": {
          "base_uri": "https://localhost:8080/"
        },
        "outputId": "4ea5906c-b7d2-47a6-f38b-0fced4ecf747"
      },
      "source": [
        "# montar a drive e imports\n",
        "import pandas as pd\n",
        "import time\n",
        "import random\n",
        "\n",
        "from google.colab import drive\n",
        "drive.mount('/content/drive')"
      ],
      "execution_count": null,
      "outputs": [
        {
          "output_type": "stream",
          "text": [
            "Drive already mounted at /content/drive; to attempt to forcibly remount, call drive.mount(\"/content/drive\", force_remount=True).\n"
          ],
          "name": "stdout"
        }
      ]
    },
    {
      "cell_type": "code",
      "metadata": {
        "colab": {
          "base_uri": "https://localhost:8080/"
        },
        "id": "WM8wSJvTJyfy",
        "outputId": "a6279c04-1a76-4eeb-ecd0-93bc50e0769e"
      },
      "source": [
        "# source http://snap.stanford.edu/data/ego-Facebook.html\n",
        "# File path\n",
        "filepath = '/content/drive/MyDrive/Colab Notebooks/Computação na Cloud (CC)/gplus_combined.csv'\n",
        "# pandas to read dataset\n",
        "dataset = pd.read_csv(filepath, delimiter=' ')\n",
        "print(\"Dataset\\n\", dataset)\n",
        "\n",
        "x = dataset.iloc[:, 0]\n",
        "y = dataset.iloc[:, 1]"
      ],
      "execution_count": null,
      "outputs": [
        {
          "output_type": "stream",
          "text": [
            "Dataset\n",
            "           116374117927631468606  101765416973555767821\n",
            "0         112188647432305746617  107727150903234299458\n",
            "1         116719211656774388392  100432456209427807893\n",
            "2         117421021456205115327  101096322838605097368\n",
            "3         116407635616074189669  113556266482860931616\n",
            "4         105706178492556563330  111169963967137030210\n",
            "...                         ...                    ...\n",
            "30494860  118379821279745746467  102953973878117962383\n",
            "30494861  118379821279745746467  116863879615717543881\n",
            "30494862  118379821279745746467  102977664233671324384\n",
            "30494863  118379821279745746467  106299956776996674942\n",
            "30494864  118379821279745746467  109995768273040439562\n",
            "\n",
            "[30494865 rows x 2 columns]\n"
          ],
          "name": "stdout"
        }
      ]
    },
    {
      "cell_type": "code",
      "metadata": {
        "colab": {
          "base_uri": "https://localhost:8080/"
        },
        "id": "JH1OCL4qL0zh",
        "outputId": "c6041833-67b8-4b64-9c0a-cfcf9b186515"
      },
      "source": [
        "# Ids to search friends\n",
        "# Change this value to get the number of IDs to find the mutual friends\n",
        "n_ids = 3\n",
        "friend = []\n",
        "count = []\n",
        "\n",
        "for i in range(n_ids):\n",
        "  friend.append(x[random.randint(0, 30494865)])\n",
        "  count.append(0)\n",
        "\n",
        "'''\n",
        "# Exemples for debugging:\n",
        "# 2 IDs\n",
        "109123727761757726835\n",
        "100722679426961808186\n",
        "_____________________\n",
        "2356 mutual friends\n",
        "\n",
        "# 3 IDs\n",
        "103652441454188509895\n",
        "116635061583722144944\n",
        "113882113745075873153\n",
        "______________________\n",
        "1405 mutual friends\n",
        "\n",
        "'''\n",
        "\n",
        "t0 = time.time()\n",
        "\n",
        "# Counting nº of friends to each ID\n",
        "# Each line is: friend0 friend_0\n",
        "#               friend0 friend_1\n",
        "#               friend0 friend_2\n",
        "\n",
        "# Computational Complexity: O(n^m)\n",
        "for i in x:\n",
        "  for j in range(len(friend)):\n",
        "    if friend[j] == i:\n",
        "      count[j] += 1\n",
        "t1 = time.time()\n",
        "\n",
        "print('Delta t(s) = ', (t1-t0))\n",
        "for i in range(len(friend)):\n",
        "  print('Nº of friends of %s: %d' %(friend[i], count[i]))\n"
      ],
      "execution_count": null,
      "outputs": [
        {
          "output_type": "stream",
          "text": [
            "Delta t(s) =  26.674137830734253\n",
            "Nº of friends of 103652441454188509895: 7680\n",
            "Nº of friends of 116635061583722144944: 5841\n",
            "Nº of friends of 113882113745075873153: 4577\n"
          ],
          "name": "stdout"
        }
      ]
    },
    {
      "cell_type": "code",
      "metadata": {
        "colab": {
          "base_uri": "https://localhost:8080/"
        },
        "id": "f2wxLc5MSq4P",
        "outputId": "f8ff4041-29aa-4c7c-9ea1-912d912ffcdf"
      },
      "source": [
        "# Now counts the number of mutual friends\n",
        "# Computational Complexity: O(n + n*m)\n",
        "# Mutual Friends will be\n",
        "mutual_friends = []\n",
        "friends_in_common = 0\n",
        "t0 = time.time()\n",
        "\n",
        "# Fetch the friends of each and appends them to a list\n",
        "for i in range(len(x)):\n",
        "  for j in friend:\n",
        "    if j == x[i]:\n",
        "      s = y[i] + '\\t1'\n",
        "      mutual_friends.append(s)\n",
        "  \n",
        "t1 = time.time()\n",
        "\n",
        "# Now we sort the list (matches the MapReduce Job on Hadoop)\n",
        "mutual_friends.sort()\n",
        "\n",
        "# verify if there is any mutual friend\n",
        "line = mutual_friends[0]\n",
        "current_id, current_count = line.split('\\t', 1)\n",
        "current_count = int(current_count)\n",
        "for i in range(1, len(mutual_friends)):\n",
        "  line = mutual_friends[i]\n",
        "  id, count = line.split('\\t', 1)\n",
        "  count = int(count)\n",
        "  if current_id == id:\n",
        "    current_count += 1\n",
        "    if current_count == n_ids:\n",
        "      friends_in_common += 1\n",
        "  else:\n",
        "    current_count = count\n",
        "    current_id = id\n",
        "  \n",
        "\n",
        "t2 = time.time()\n",
        "\n",
        "print('Delta fetch friends(s) = %.2f' %(t1-t0))\n",
        "print('Delta mutual friends(s) = %.2f' %(t2-t1))\n",
        "print('Delta Total(s) = %.2f' %(t2-t0))\n",
        "print('Nº of mutual friends: ', friends_in_common)"
      ],
      "execution_count": null,
      "outputs": [
        {
          "output_type": "stream",
          "text": [
            "Delta fetch friends(s) = 359.90\n",
            "Delta mutual friends(s) = 0.03\n",
            "Delta Total(s) = 359.92\n",
            "Nº of mutual friends:  1405\n"
          ],
          "name": "stdout"
        }
      ]
    }
  ]
}
